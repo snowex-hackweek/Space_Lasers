{
 "cells": [
  {
   "cell_type": "code",
   "execution_count": null,
   "id": "introductory-gilbert",
   "metadata": {},
   "outputs": [],
   "source": [
    "# imports:\n",
    "import numpy as np\n",
    "import matplotlib.pyplot as plt\n",
    "import re\n",
    "import geopandas as gpd\n",
    "import os\n",
    "import pandas as pd\n",
    "import rioxarray\n",
    "import s3fs"
   ]
  },
  {
   "cell_type": "markdown",
   "id": "based-thanksgiving",
   "metadata": {},
   "source": [
    "## Intro\n",
    "\n",
    "This notebook contains code for reading ATL08 data for Grand Mesa from OpenAltimetry."
   ]
  },
  {
   "cell_type": "code",
   "execution_count": null,
   "id": "guided-greene",
   "metadata": {},
   "outputs": [],
   "source": [
    "%matplotlib widget"
   ]
  },
  {
   "cell_type": "markdown",
   "id": "saved-consistency",
   "metadata": {},
   "source": [
    "## Import the Sentinel basemap"
   ]
  },
  {
   "cell_type": "code",
   "execution_count": null,
   "id": "automated-tuition",
   "metadata": {},
   "outputs": [],
   "source": [
    "# GDAL environment variables to efficiently read remote data\n",
    "os.environ['GDAL_DISABLE_READDIR_ON_OPEN']='EMPTY_DIR' \n",
    "os.environ['AWS_NO_SIGN_REQUEST']='YES' \n",
    "\n",
    "# SAR Data are stored in a public S3 Bucket\n",
    "url = 's3://sentinel-s1-rtc-indigo/tiles/RTC/1/IW/12/S/YJ/2016/S1B_20161121_12SYJ_ASC/Gamma0_VV.tif'\n",
    "\n",
    "# These Cloud-Optimized-Geotiff (COG) files have 'overviews', low-resolution copies for quick visualization\n",
    "XR=[725000.0, 767000.0]\n",
    "YR=[4.30e6, 4.34e6]\n",
    "# open the dataset\n",
    "da = rioxarray.open_rasterio(url, overview_level=1).squeeze('band')#.clip_box([712410.0, 4295090.0, 797010.0, 4344370.0])\n",
    "da=da.where((da.x>XR[0]) & (da.x < XR[1]), drop=True)\n",
    "da=da.where((da.y>YR[0]) & (da.y < YR[1]), drop=True)\n",
    "dx=da.x[1]-da.x[0]\n",
    "SAR_extent=[da.x[0]-dx/2, da.x[-1]+dx/2, np.min(da.y)-dx/2, np.max(da.y)+dx/2]\n",
    "\n",
    "# Prepare coordinate transformations into the basemap coordinate system\n",
    "from pyproj import Transformer, CRS\n",
    "crs=CRS.from_wkt(da['spatial_ref'].spatial_ref.crs_wkt)\n",
    "to_image_crs=Transformer.from_crs(crs.geodetic_crs, crs)\n",
    "to_geo_crs=Transformer.from_crs(crs, crs.geodetic_crs)\n",
    "\n",
    "corners_lon, corners_lat=to_geo_crs.transform(np.array(XR)[[0, 1, 1, 0, 0]], np.array(YR)[[0, 0, 1, 1, 0]])\n",
    "lonlims=[np.min(corners_lat), np.max(corners_lat)]\n",
    "latlims=[np.min(corners_lon), np.max(corners_lon)]"
   ]
  },
  {
   "cell_type": "markdown",
   "id": "continued-disposition",
   "metadata": {},
   "source": [
    "## Use IcePyx to query CMR for available granules\n",
    "\n",
    "(Can probably do this with openAltimetry too)"
   ]
  },
  {
   "cell_type": "code",
   "execution_count": null,
   "id": "antique-rugby",
   "metadata": {},
   "outputs": [],
   "source": [
    "import requests\n",
    "import icepyx as ipx\n",
    "\n",
    "region_a = ipx.Query('ATL08', [lonlims[0], latlims[0], lonlims[1], latlims[1]], ['2018-12-01','2021-06-01'], \\\n",
    "                          start_time='00:00:00', end_time='23:59:59')"
   ]
  },
  {
   "cell_type": "code",
   "execution_count": null,
   "id": "behavioral-huntington",
   "metadata": {},
   "outputs": [],
   "source": [
    "region_a.avail_granules()"
   ]
  },
  {
   "cell_type": "code",
   "execution_count": null,
   "id": "generous-apparel",
   "metadata": {},
   "outputs": [],
   "source": [
    "ATLAS_re=re.compile('ATL.._(?P<year>\\d\\d\\d\\d)(?P<month>\\d\\d)(?P<day>\\d\\d)\\d+_(?P<track>\\d\\d\\d\\d)')\n",
    "\n",
    "date_track=[]\n",
    "for count, item in enumerate(region_a.granules.avail):\n",
    "    granule_info=ATLAS_re.search(item['producer_granule_id']).groupdict()\n",
    "    date_track += [ ('-'.join([granule_info[key] for key in ['year', 'month', 'day']]), granule_info['track'])]"
   ]
  },
  {
   "cell_type": "markdown",
   "id": "measured-layout",
   "metadata": {},
   "source": [
    "## Define a function to read ATL08 from OpenAltimetry\n",
    "\n",
    "This function will go in its own standalone Python file"
   ]
  },
  {
   "cell_type": "code",
   "execution_count": null,
   "id": "qualified-french",
   "metadata": {},
   "outputs": [],
   "source": [
    "def get_OA_ATL08(date_track, lonlims, latlims, beamnames=[\"gt1l\",\"gt1r\",\"gt2l\",\"gt2r\",\"gt3l\",\"gt3r\"]):\n",
    "    '''\n",
    "    retrieve ICESat2 ATL03 data from openAltimetry\n",
    "    \n",
    "    Inputs:\n",
    "        date_track: a list of tuples.  Each contains a date string \"YYYY-MM-DD\" and track number (4-character string)\n",
    "        lonlims: longitude limits for the search\n",
    "        latlims: latitude limits for the search\n",
    "        beamnames: list of strings for the beams\n",
    "    outputs:\n",
    "        a dict containing ATL03 data by beam name\n",
    "    \n",
    "    Due credit:\n",
    "        Much of this code was borrowed Philipp Arndt's Pond Picker repo: https://github.com/fliphilipp/pondpicking\n",
    "    '''\n",
    "      \n",
    "    IS2_data={}\n",
    "    for this_dt in date_track:\n",
    "        this_IS2_data={}\n",
    "        for beamname in beamnames:\n",
    "            oa_url = 'https://openaltimetry.org/data/api/icesat2/atl08?minx={minx}&miny={miny}&maxx={maxx}&maxy={maxy}&trackId={trackid}&beamName={beamname}&outputFormat=json&date={date}&client=jupyter'\n",
    "            oa_url = oa_url.format(minx=lonlims[0],miny=latlims[0],maxx=lonlims[1], maxy=latlims[1], \n",
    "                                   trackid=this_dt[1], beamname=beamname, date=this_dt[0], sampling='true')\n",
    "            #.conf_ph = ['Noise','Buffer', 'Low', 'Medium', 'High']\n",
    "            if True:\n",
    "                r = requests.get(oa_url)\n",
    "                data = r.json()\n",
    "                D={}\n",
    "                D['lat_seg'] = []\n",
    "                D['lon_seg'] = []\n",
    "                D['h_ground'] = []\n",
    "                D['h_canopy']=[]\n",
    "                for series in data['series']:\n",
    "                    for p in series['lat_lon_elev_canopy']:\n",
    "                        D['lat_seg'].append(p[0])\n",
    "                        D['lon_seg'].append(p[1])\n",
    "                        if p[2] is not None:\n",
    "                            D['h_ground'].append(p[2])\n",
    "                        else:\n",
    "                            D['h_ground'].append(np.NaN)\n",
    "                        if p[3] is not None:\n",
    "                            D['h_canopy'].append(p[3])\n",
    "                        else:\n",
    "                            D['h_canopy'].append(np.NaN)\n",
    "                D['x_seg'], D['y_seg']=to_image_crs.transform(D['lat_seg'], D['lon_seg'])\n",
    "                for key in D:\n",
    "                    D[key]=np.array(D[key])\n",
    "                if len(D['lat_seg']) > 0:\n",
    "                    this_IS2_data[beamname]=D\n",
    "            #except Exception as e:\n",
    "            #    print(e)\n",
    "            #    pass\n",
    "        if len(this_IS2_data.keys()) > 0:\n",
    "            IS2_data[this_dt] = this_IS2_data\n",
    "    return IS2_data"
   ]
  },
  {
   "cell_type": "markdown",
   "id": "further-confidence",
   "metadata": {},
   "source": [
    "## Get the data"
   ]
  },
  {
   "cell_type": "code",
   "execution_count": null,
   "id": "further-vatican",
   "metadata": {},
   "outputs": [],
   "source": [
    "D08 = get_OA_ATL08(date_track, lonlims, latlims)"
   ]
  },
  {
   "cell_type": "code",
   "execution_count": null,
   "id": "failing-april",
   "metadata": {},
   "outputs": [],
   "source": [
    "plt.figure()\n",
    "plt.imshow(np.array(da)[::-1,:], origin='lower', extent=SAR_extent, cmap='gray', clim=[0, 0.5])#plt.figure();\n",
    "\n",
    "for dt, day_data in D08.items():\n",
    "    for beam, D in day_data.items():\n",
    "        plt.plot(D['x_seg'], D['y_seg'], '.', markersize=3, label=str(dt))\n",
    "\n"
   ]
  }
 ],
 "metadata": {
  "kernelspec": {
   "display_name": "Python 3",
   "language": "python",
   "name": "python3"
  },
  "language_info": {
   "codemirror_mode": {
    "name": "ipython",
    "version": 3
   },
   "file_extension": ".py",
   "mimetype": "text/x-python",
   "name": "python",
   "nbconvert_exporter": "python",
   "pygments_lexer": "ipython3",
   "version": "3.8.8"
  }
 },
 "nbformat": 4,
 "nbformat_minor": 5
}
