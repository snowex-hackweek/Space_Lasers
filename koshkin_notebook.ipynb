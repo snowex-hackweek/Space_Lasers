{
 "cells": [
  {
   "cell_type": "code",
   "execution_count": null,
   "id": "twenty-courage",
   "metadata": {},
   "outputs": [],
   "source": [
    "# Import the function to get connect to the db\n",
    "from snowexsql.db import get_db\n",
    "\n",
    "# Import our class for the points table\n",
    "from snowexsql.data import PointData\n",
    "\n",
    "# Import a useful function to format that data into a dataframe\n",
    "from snowexsql.conversions import query_to_geopandas\n",
    "\n",
    "# Import some tools to build dates \n",
    "from datetime import date\n",
    "\n",
    "# This is what you will use for all of hackweek to access the db\n",
    "db_name = 'snow:hackweek@52.32.183.144/snowex'\n",
    "\n",
    "# Using the function get_db, we receive 2 ways to interact with the database\n",
    "engine, session = get_db(db_name)"
   ]
  },
  {
   "cell_type": "code",
   "execution_count": null,
   "id": "excessive-portrait",
   "metadata": {},
   "outputs": [],
   "source": [
    "# Output the list of tables in the database \n",
    "engine.table_names()"
   ]
  },
  {
   "cell_type": "code",
   "execution_count": null,
   "id": "diagnostic-pride",
   "metadata": {},
   "outputs": [],
   "source": [
    "from snowexsql.data import PointData, ImageData"
   ]
  },
  {
   "cell_type": "code",
   "execution_count": null,
   "id": "flush-screening",
   "metadata": {},
   "outputs": [],
   "source": [
    "# Pick a dataset\n",
    "dataset = 'depth'\n",
    "\n",
    "# Pick a date\n",
    "collection_date = date(2020, 2, 7)\n",
    "\n",
    "# The part inside the query function is what we want back, in this case all columns for the point data\n",
    "qry = session.query(PointData)\n",
    "\n",
    "# We then want to filter by the selected the data type depth.\n",
    "qry = qry.filter(PointData.type == 'depth')\n",
    "\n",
    "# Filter by a date\n",
    "qry = qry.filter(PointData.date == collection_date)\n",
    "\n",
    "#instrument \n",
    "#qry = qry.filter(PointData.instrument =='magnaprobe'| 'mesa')\n",
    "\n",
    "# Limit it to a couple thousand \n",
    "qry = qry.limit(2000)\n",
    "\n",
    "# Execute the query and convert to geopandas in one handy function\n",
    "df = query_to_geopandas(qry, engine)\n",
    "\n",
    "# how many did we retrieve?\n",
    "print(f'{len(df.index)} records returned!')"
   ]
  },
  {
   "cell_type": "code",
   "execution_count": null,
   "id": "bronze-fraction",
   "metadata": {},
   "outputs": [],
   "source": [
    "# Get the unique datanames in the table\n",
    "results = session.query(PointData.type).distinct().all()\n",
    "print('Available types = {}'.format(', '.join([r[0] for r in results])))\n",
    "\n",
    "# Get the unique instrument in the table\n",
    "results = session.query(PointData.instrument).distinct().all()\n",
    "print('\\nAvailable Instruments = {}'.format(', '.join([str(r[0]) for r in results])))\n",
    "\n",
    "# Get the unique dates in the table\n",
    "results = session.query(PointData.date).distinct().all()\n",
    "print('\\nAvailable Dates = {}'.format(', '.join([str(r[0]) for r in results])))\n",
    "\n",
    "# Get the unique surveyors in the table\n",
    "results = session.query(PointData.surveyors).distinct().all()\n",
    "print('\\nAvailable surveyors = {}'.format(', '.join([str(r[0]) for r in results])))\n"
   ]
  },
  {
   "cell_type": "code",
   "execution_count": null,
   "id": "choice-circumstances",
   "metadata": {},
   "outputs": [],
   "source": [
    "# Its convenient to store a query like the following \n",
    "qry = session.query(PointData)\n",
    "\n",
    "# Then filter on it to just depth profiles\n",
    "qry = qry.filter(PointData.type == 'depth')\n",
    "\n",
    "# protect ourselves from a lot of data\n",
    "qry = qry.limit(5)\n",
    "\n",
    "result = qry.all()\n",
    "print(result)"
   ]
  },
  {
   "cell_type": "markdown",
   "id": "cultural-output",
   "metadata": {},
   "source": [
    "Raster Data--DEM?"
   ]
  },
  {
   "cell_type": "code",
   "execution_count": null,
   "id": "advised-reducing",
   "metadata": {},
   "outputs": [],
   "source": [
    "# import the handy function to convert raster db results to rasterio\n",
    "from snowexsql.conversions import raster_to_rasterio\n",
    "\n",
    "# Import the SQL function to access PostGIS functions\n",
    "from sqlalchemy.sql import func\n",
    "\n",
    "# Import rasterio for Writing\n",
    "import rasterio \n",
    "\n",
    "# Query 1 raster tile and convert it to a geotiff\n",
    "result = session.query(func.ST_AsTiff(ImageData.raster == 'DEM'))\n",
    "\n",
    "print(raster)\n",
    "\n",
    "# Convert the dataset to a rasterio dataset\n",
    "dataset = raster_to_rasterio(session, result)\n",
    "\n",
    "# Copy the profile/tiff metadata (not to be confused with the database metadata)\n",
    "profile = dataset[0].profile\n",
    "\n",
    "# Write to a file \n",
    "#with rasterio.open('raster.tif', 'w', **profile) as dst:\n",
    "    #dst.write(dataset[0].read(1), 1)"
   ]
  },
  {
   "cell_type": "code",
   "execution_count": null,
   "id": "dynamic-sending",
   "metadata": {},
   "outputs": [],
   "source": []
  },
  {
   "cell_type": "code",
   "execution_count": null,
   "id": "adapted-spending",
   "metadata": {},
   "outputs": [],
   "source": [
    "DEM = ImageData.raster =='DEM'\n",
    "print(DEM)\n",
    "\n",
    "# Convert the dataset to a rasterio dataset\n",
    "dataset = raster_to_rasterio(session, DEM)\n",
    "\n",
    "# Copy the profile/tiff metadata (not to be confused with the database metadata)\n",
    "#profile = dataset[0].profile\n",
    "\n",
    "# Write to a file \n",
    "#with rasterio.open('raster.tif', 'w', **profile) as dst:\n",
    "    #dst.write(dataset[0].read(1), 1)\n"
   ]
  },
  {
   "cell_type": "code",
   "execution_count": null,
   "id": "romantic-deficit",
   "metadata": {},
   "outputs": [],
   "source": []
  },
  {
   "cell_type": "code",
   "execution_count": null,
   "id": "recovered-albany",
   "metadata": {},
   "outputs": [],
   "source": []
  }
 ],
 "metadata": {
  "kernelspec": {
   "display_name": "Python 3",
   "language": "python",
   "name": "python3"
  },
  "language_info": {
   "codemirror_mode": {
    "name": "ipython",
    "version": 3
   },
   "file_extension": ".py",
   "mimetype": "text/x-python",
   "name": "python",
   "nbconvert_exporter": "python",
   "pygments_lexer": "ipython3",
   "version": "3.8.8"
  }
 },
 "nbformat": 4,
 "nbformat_minor": 5
}
